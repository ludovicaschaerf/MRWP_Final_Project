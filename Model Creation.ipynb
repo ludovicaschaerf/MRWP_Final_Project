{
 "cells": [
  {
   "cell_type": "code",
   "execution_count": 1,
   "metadata": {},
   "outputs": [],
   "source": [
    "import pandas as pd\n",
    "with open('./coronavirusdataset/PatientInfo.csv', 'rb') as infile:\n",
    "    patient_info = pd.read_csv(infile)\n",
    "    \n",
    "with open('./coronavirusdataset/PatientRoute.csv', 'rb') as infile:\n",
    "    patient_route = pd.read_csv(infile)"
   ]
  },
  {
   "cell_type": "code",
   "execution_count": 2,
   "metadata": {},
   "outputs": [
    {
     "data": {
      "text/plain": [
       "3519"
      ]
     },
     "execution_count": 2,
     "metadata": {},
     "output_type": "execute_result"
    }
   ],
   "source": [
    "len(patient_info.patient_id.unique())"
   ]
  },
  {
   "cell_type": "code",
   "execution_count": 3,
   "metadata": {},
   "outputs": [
    {
     "data": {
      "text/plain": [
       "1319"
      ]
     },
     "execution_count": 3,
     "metadata": {},
     "output_type": "execute_result"
    }
   ],
   "source": [
    "len(patient_route.patient_id.unique())"
   ]
  },
  {
   "cell_type": "code",
   "execution_count": 4,
   "metadata": {},
   "outputs": [],
   "source": [
    "data = pd.merge(patient_info, patient_route, on='patient_id')\n",
    "data = data[data['province_x'] == 'Seoul']"
   ]
  },
  {
   "cell_type": "code",
   "execution_count": 5,
   "metadata": {
    "scrolled": true
   },
   "outputs": [
    {
     "data": {
      "text/html": [
       "<div>\n",
       "<style scoped>\n",
       "    .dataframe tbody tr th:only-of-type {\n",
       "        vertical-align: middle;\n",
       "    }\n",
       "\n",
       "    .dataframe tbody tr th {\n",
       "        vertical-align: top;\n",
       "    }\n",
       "\n",
       "    .dataframe thead th {\n",
       "        text-align: right;\n",
       "    }\n",
       "</style>\n",
       "<table border=\"1\" class=\"dataframe\">\n",
       "  <thead>\n",
       "    <tr style=\"text-align: right;\">\n",
       "      <th></th>\n",
       "      <th>patient_id</th>\n",
       "      <th>global_num_x</th>\n",
       "      <th>sex</th>\n",
       "      <th>birth_year</th>\n",
       "      <th>age</th>\n",
       "      <th>country</th>\n",
       "      <th>province_x</th>\n",
       "      <th>city_x</th>\n",
       "      <th>disease</th>\n",
       "      <th>infection_case</th>\n",
       "      <th>...</th>\n",
       "      <th>released_date</th>\n",
       "      <th>deceased_date</th>\n",
       "      <th>state</th>\n",
       "      <th>global_num_y</th>\n",
       "      <th>date</th>\n",
       "      <th>province_y</th>\n",
       "      <th>city_y</th>\n",
       "      <th>type</th>\n",
       "      <th>latitude</th>\n",
       "      <th>longitude</th>\n",
       "    </tr>\n",
       "  </thead>\n",
       "  <tbody>\n",
       "    <tr>\n",
       "      <th>0</th>\n",
       "      <td>1000000001</td>\n",
       "      <td>2.0</td>\n",
       "      <td>male</td>\n",
       "      <td>1964.0</td>\n",
       "      <td>50s</td>\n",
       "      <td>Korea</td>\n",
       "      <td>Seoul</td>\n",
       "      <td>Gangseo-gu</td>\n",
       "      <td>NaN</td>\n",
       "      <td>overseas inflow</td>\n",
       "      <td>...</td>\n",
       "      <td>2020-02-05</td>\n",
       "      <td>NaN</td>\n",
       "      <td>released</td>\n",
       "      <td>2.0</td>\n",
       "      <td>2020-01-22</td>\n",
       "      <td>Gyeonggi-do</td>\n",
       "      <td>Gimpo-si</td>\n",
       "      <td>airport</td>\n",
       "      <td>37.615246</td>\n",
       "      <td>126.715632</td>\n",
       "    </tr>\n",
       "    <tr>\n",
       "      <th>1</th>\n",
       "      <td>1000000001</td>\n",
       "      <td>2.0</td>\n",
       "      <td>male</td>\n",
       "      <td>1964.0</td>\n",
       "      <td>50s</td>\n",
       "      <td>Korea</td>\n",
       "      <td>Seoul</td>\n",
       "      <td>Gangseo-gu</td>\n",
       "      <td>NaN</td>\n",
       "      <td>overseas inflow</td>\n",
       "      <td>...</td>\n",
       "      <td>2020-02-05</td>\n",
       "      <td>NaN</td>\n",
       "      <td>released</td>\n",
       "      <td>2.0</td>\n",
       "      <td>2020-01-24</td>\n",
       "      <td>Seoul</td>\n",
       "      <td>Jung-gu</td>\n",
       "      <td>hospital</td>\n",
       "      <td>37.567241</td>\n",
       "      <td>127.005659</td>\n",
       "    </tr>\n",
       "    <tr>\n",
       "      <th>2</th>\n",
       "      <td>1000000002</td>\n",
       "      <td>5.0</td>\n",
       "      <td>male</td>\n",
       "      <td>1987.0</td>\n",
       "      <td>30s</td>\n",
       "      <td>Korea</td>\n",
       "      <td>Seoul</td>\n",
       "      <td>Jungnang-gu</td>\n",
       "      <td>NaN</td>\n",
       "      <td>overseas inflow</td>\n",
       "      <td>...</td>\n",
       "      <td>2020-03-02</td>\n",
       "      <td>NaN</td>\n",
       "      <td>released</td>\n",
       "      <td>5.0</td>\n",
       "      <td>2020-01-25</td>\n",
       "      <td>Seoul</td>\n",
       "      <td>Seongbuk-gu</td>\n",
       "      <td>etc</td>\n",
       "      <td>37.592560</td>\n",
       "      <td>127.017048</td>\n",
       "    </tr>\n",
       "    <tr>\n",
       "      <th>3</th>\n",
       "      <td>1000000002</td>\n",
       "      <td>5.0</td>\n",
       "      <td>male</td>\n",
       "      <td>1987.0</td>\n",
       "      <td>30s</td>\n",
       "      <td>Korea</td>\n",
       "      <td>Seoul</td>\n",
       "      <td>Jungnang-gu</td>\n",
       "      <td>NaN</td>\n",
       "      <td>overseas inflow</td>\n",
       "      <td>...</td>\n",
       "      <td>2020-03-02</td>\n",
       "      <td>NaN</td>\n",
       "      <td>released</td>\n",
       "      <td>5.0</td>\n",
       "      <td>2020-01-26</td>\n",
       "      <td>Seoul</td>\n",
       "      <td>Seongbuk-gu</td>\n",
       "      <td>store</td>\n",
       "      <td>37.591810</td>\n",
       "      <td>127.016822</td>\n",
       "    </tr>\n",
       "    <tr>\n",
       "      <th>4</th>\n",
       "      <td>1000000002</td>\n",
       "      <td>5.0</td>\n",
       "      <td>male</td>\n",
       "      <td>1987.0</td>\n",
       "      <td>30s</td>\n",
       "      <td>Korea</td>\n",
       "      <td>Seoul</td>\n",
       "      <td>Jungnang-gu</td>\n",
       "      <td>NaN</td>\n",
       "      <td>overseas inflow</td>\n",
       "      <td>...</td>\n",
       "      <td>2020-03-02</td>\n",
       "      <td>NaN</td>\n",
       "      <td>released</td>\n",
       "      <td>5.0</td>\n",
       "      <td>2020-01-26</td>\n",
       "      <td>Seoul</td>\n",
       "      <td>Seongdong-gu</td>\n",
       "      <td>public_transportation</td>\n",
       "      <td>37.563992</td>\n",
       "      <td>127.029534</td>\n",
       "    </tr>\n",
       "    <tr>\n",
       "      <th>...</th>\n",
       "      <td>...</td>\n",
       "      <td>...</td>\n",
       "      <td>...</td>\n",
       "      <td>...</td>\n",
       "      <td>...</td>\n",
       "      <td>...</td>\n",
       "      <td>...</td>\n",
       "      <td>...</td>\n",
       "      <td>...</td>\n",
       "      <td>...</td>\n",
       "      <td>...</td>\n",
       "      <td>...</td>\n",
       "      <td>...</td>\n",
       "      <td>...</td>\n",
       "      <td>...</td>\n",
       "      <td>...</td>\n",
       "      <td>...</td>\n",
       "      <td>...</td>\n",
       "      <td>...</td>\n",
       "      <td>...</td>\n",
       "      <td>...</td>\n",
       "    </tr>\n",
       "    <tr>\n",
       "      <th>3257</th>\n",
       "      <td>1000000711</td>\n",
       "      <td>10987.0</td>\n",
       "      <td>NaN</td>\n",
       "      <td>NaN</td>\n",
       "      <td>NaN</td>\n",
       "      <td>Korea</td>\n",
       "      <td>Seoul</td>\n",
       "      <td>Nowon-gu</td>\n",
       "      <td>NaN</td>\n",
       "      <td>overseas inflow</td>\n",
       "      <td>...</td>\n",
       "      <td>NaN</td>\n",
       "      <td>NaN</td>\n",
       "      <td>isolated</td>\n",
       "      <td>10987.0</td>\n",
       "      <td>2020-05-13</td>\n",
       "      <td>Seoul</td>\n",
       "      <td>Jungnang-gu</td>\n",
       "      <td>hospital</td>\n",
       "      <td>37.612772</td>\n",
       "      <td>127.098167</td>\n",
       "    </tr>\n",
       "    <tr>\n",
       "      <th>3258</th>\n",
       "      <td>1000000712</td>\n",
       "      <td>NaN</td>\n",
       "      <td>NaN</td>\n",
       "      <td>NaN</td>\n",
       "      <td>NaN</td>\n",
       "      <td>Korea</td>\n",
       "      <td>Seoul</td>\n",
       "      <td>Gangbuk-gu</td>\n",
       "      <td>NaN</td>\n",
       "      <td>NaN</td>\n",
       "      <td>...</td>\n",
       "      <td>NaN</td>\n",
       "      <td>NaN</td>\n",
       "      <td>isolated</td>\n",
       "      <td>NaN</td>\n",
       "      <td>2020-04-30</td>\n",
       "      <td>Seoul</td>\n",
       "      <td>Yeongdeungpo-gu</td>\n",
       "      <td>etc</td>\n",
       "      <td>37.539111</td>\n",
       "      <td>126.903394</td>\n",
       "    </tr>\n",
       "    <tr>\n",
       "      <th>3259</th>\n",
       "      <td>1000000712</td>\n",
       "      <td>NaN</td>\n",
       "      <td>NaN</td>\n",
       "      <td>NaN</td>\n",
       "      <td>NaN</td>\n",
       "      <td>Korea</td>\n",
       "      <td>Seoul</td>\n",
       "      <td>Gangbuk-gu</td>\n",
       "      <td>NaN</td>\n",
       "      <td>NaN</td>\n",
       "      <td>...</td>\n",
       "      <td>NaN</td>\n",
       "      <td>NaN</td>\n",
       "      <td>isolated</td>\n",
       "      <td>NaN</td>\n",
       "      <td>2020-05-09</td>\n",
       "      <td>Seoul</td>\n",
       "      <td>Yeongdeungpo-gu</td>\n",
       "      <td>beauty_salon</td>\n",
       "      <td>37.535056</td>\n",
       "      <td>126.899351</td>\n",
       "    </tr>\n",
       "    <tr>\n",
       "      <th>3260</th>\n",
       "      <td>1000000712</td>\n",
       "      <td>NaN</td>\n",
       "      <td>NaN</td>\n",
       "      <td>NaN</td>\n",
       "      <td>NaN</td>\n",
       "      <td>Korea</td>\n",
       "      <td>Seoul</td>\n",
       "      <td>Gangbuk-gu</td>\n",
       "      <td>NaN</td>\n",
       "      <td>NaN</td>\n",
       "      <td>...</td>\n",
       "      <td>NaN</td>\n",
       "      <td>NaN</td>\n",
       "      <td>isolated</td>\n",
       "      <td>NaN</td>\n",
       "      <td>2020-05-12</td>\n",
       "      <td>Seoul</td>\n",
       "      <td>Yeongdeungpo-gu</td>\n",
       "      <td>hospital</td>\n",
       "      <td>37.533121</td>\n",
       "      <td>126.903804</td>\n",
       "    </tr>\n",
       "    <tr>\n",
       "      <th>3261</th>\n",
       "      <td>1000000712</td>\n",
       "      <td>NaN</td>\n",
       "      <td>NaN</td>\n",
       "      <td>NaN</td>\n",
       "      <td>NaN</td>\n",
       "      <td>Korea</td>\n",
       "      <td>Seoul</td>\n",
       "      <td>Gangbuk-gu</td>\n",
       "      <td>NaN</td>\n",
       "      <td>NaN</td>\n",
       "      <td>...</td>\n",
       "      <td>NaN</td>\n",
       "      <td>NaN</td>\n",
       "      <td>isolated</td>\n",
       "      <td>NaN</td>\n",
       "      <td>2020-05-13</td>\n",
       "      <td>Seoul</td>\n",
       "      <td>Yeongdeungpo-gu</td>\n",
       "      <td>hospital</td>\n",
       "      <td>37.517818</td>\n",
       "      <td>126.935558</td>\n",
       "    </tr>\n",
       "  </tbody>\n",
       "</table>\n",
       "<p>3262 rows × 25 columns</p>\n",
       "</div>"
      ],
      "text/plain": [
       "      patient_id  global_num_x   sex  birth_year  age country province_x  \\\n",
       "0     1000000001           2.0  male      1964.0  50s   Korea      Seoul   \n",
       "1     1000000001           2.0  male      1964.0  50s   Korea      Seoul   \n",
       "2     1000000002           5.0  male      1987.0  30s   Korea      Seoul   \n",
       "3     1000000002           5.0  male      1987.0  30s   Korea      Seoul   \n",
       "4     1000000002           5.0  male      1987.0  30s   Korea      Seoul   \n",
       "...          ...           ...   ...         ...  ...     ...        ...   \n",
       "3257  1000000711       10987.0   NaN         NaN  NaN   Korea      Seoul   \n",
       "3258  1000000712           NaN   NaN         NaN  NaN   Korea      Seoul   \n",
       "3259  1000000712           NaN   NaN         NaN  NaN   Korea      Seoul   \n",
       "3260  1000000712           NaN   NaN         NaN  NaN   Korea      Seoul   \n",
       "3261  1000000712           NaN   NaN         NaN  NaN   Korea      Seoul   \n",
       "\n",
       "           city_x disease   infection_case  ...  released_date  deceased_date  \\\n",
       "0      Gangseo-gu     NaN  overseas inflow  ...     2020-02-05            NaN   \n",
       "1      Gangseo-gu     NaN  overseas inflow  ...     2020-02-05            NaN   \n",
       "2     Jungnang-gu     NaN  overseas inflow  ...     2020-03-02            NaN   \n",
       "3     Jungnang-gu     NaN  overseas inflow  ...     2020-03-02            NaN   \n",
       "4     Jungnang-gu     NaN  overseas inflow  ...     2020-03-02            NaN   \n",
       "...           ...     ...              ...  ...            ...            ...   \n",
       "3257     Nowon-gu     NaN  overseas inflow  ...            NaN            NaN   \n",
       "3258   Gangbuk-gu     NaN              NaN  ...            NaN            NaN   \n",
       "3259   Gangbuk-gu     NaN              NaN  ...            NaN            NaN   \n",
       "3260   Gangbuk-gu     NaN              NaN  ...            NaN            NaN   \n",
       "3261   Gangbuk-gu     NaN              NaN  ...            NaN            NaN   \n",
       "\n",
       "         state global_num_y        date   province_y           city_y  \\\n",
       "0     released          2.0  2020-01-22  Gyeonggi-do         Gimpo-si   \n",
       "1     released          2.0  2020-01-24        Seoul          Jung-gu   \n",
       "2     released          5.0  2020-01-25        Seoul      Seongbuk-gu   \n",
       "3     released          5.0  2020-01-26        Seoul      Seongbuk-gu   \n",
       "4     released          5.0  2020-01-26        Seoul     Seongdong-gu   \n",
       "...        ...          ...         ...          ...              ...   \n",
       "3257  isolated      10987.0  2020-05-13        Seoul      Jungnang-gu   \n",
       "3258  isolated          NaN  2020-04-30        Seoul  Yeongdeungpo-gu   \n",
       "3259  isolated          NaN  2020-05-09        Seoul  Yeongdeungpo-gu   \n",
       "3260  isolated          NaN  2020-05-12        Seoul  Yeongdeungpo-gu   \n",
       "3261  isolated          NaN  2020-05-13        Seoul  Yeongdeungpo-gu   \n",
       "\n",
       "                       type   latitude   longitude  \n",
       "0                   airport  37.615246  126.715632  \n",
       "1                  hospital  37.567241  127.005659  \n",
       "2                       etc  37.592560  127.017048  \n",
       "3                     store  37.591810  127.016822  \n",
       "4     public_transportation  37.563992  127.029534  \n",
       "...                     ...        ...         ...  \n",
       "3257               hospital  37.612772  127.098167  \n",
       "3258                    etc  37.539111  126.903394  \n",
       "3259           beauty_salon  37.535056  126.899351  \n",
       "3260               hospital  37.533121  126.903804  \n",
       "3261               hospital  37.517818  126.935558  \n",
       "\n",
       "[3262 rows x 25 columns]"
      ]
     },
     "execution_count": 5,
     "metadata": {},
     "output_type": "execute_result"
    }
   ],
   "source": [
    "data"
   ]
  },
  {
   "cell_type": "code",
   "execution_count": 6,
   "metadata": {},
   "outputs": [
    {
     "data": {
      "text/plain": [
       "640"
      ]
     },
     "execution_count": 6,
     "metadata": {},
     "output_type": "execute_result"
    }
   ],
   "source": [
    "len(data.patient_id.unique())"
   ]
  },
  {
   "cell_type": "code",
   "execution_count": 7,
   "metadata": {},
   "outputs": [
    {
     "data": {
      "text/plain": [
       "2733"
      ]
     },
     "execution_count": 7,
     "metadata": {},
     "output_type": "execute_result"
    }
   ],
   "source": [
    "pd.isna(data['infected_by']).sum()"
   ]
  },
  {
   "cell_type": "code",
   "execution_count": 8,
   "metadata": {},
   "outputs": [
    {
     "data": {
      "text/plain": [
       "(644, 111)"
      ]
     },
     "execution_count": 8,
     "metadata": {},
     "output_type": "execute_result"
    }
   ],
   "source": [
    "import networkx as nx\n",
    "\n",
    "#instantiation of the undirected graph\n",
    "G = nx.Graph()\n",
    "G.add_nodes_from(list(data['patient_id'].unique()))\n",
    "\n",
    "\n",
    "for idx in data.index:\n",
    "    if not(pd.isna(data['infected_by'][idx])):\n",
    "        G.add_edge(data['patient_id'][idx],data['infected_by'][idx], weight=float(1))\n",
    "        \n",
    "\n",
    "\n",
    "len(G), G.size()"
   ]
  },
  {
   "cell_type": "code",
   "execution_count": 9,
   "metadata": {},
   "outputs": [],
   "source": [
    "## making groups of people who may have been infecting each other\n",
    "groups = data.groupby(['latitude', 'longitude', 'type'])['patient_id'].unique().apply(list).tolist()"
   ]
  },
  {
   "cell_type": "code",
   "execution_count": 10,
   "metadata": {},
   "outputs": [
    {
     "data": {
      "text/plain": [
       "[1000000350, 1000000351]"
      ]
     },
     "execution_count": 10,
     "metadata": {},
     "output_type": "execute_result"
    }
   ],
   "source": [
    "groups[143]"
   ]
  },
  {
   "cell_type": "code",
   "execution_count": 11,
   "metadata": {},
   "outputs": [
    {
     "data": {
      "text/html": [
       "<div>\n",
       "<style scoped>\n",
       "    .dataframe tbody tr th:only-of-type {\n",
       "        vertical-align: middle;\n",
       "    }\n",
       "\n",
       "    .dataframe tbody tr th {\n",
       "        vertical-align: top;\n",
       "    }\n",
       "\n",
       "    .dataframe thead th {\n",
       "        text-align: right;\n",
       "    }\n",
       "</style>\n",
       "<table border=\"1\" class=\"dataframe\">\n",
       "  <thead>\n",
       "    <tr style=\"text-align: right;\">\n",
       "      <th></th>\n",
       "      <th>latitude</th>\n",
       "      <th>longitude</th>\n",
       "      <th>type</th>\n",
       "    </tr>\n",
       "  </thead>\n",
       "  <tbody>\n",
       "    <tr>\n",
       "      <th>1807</th>\n",
       "      <td>37.456256</td>\n",
       "      <td>126.705206</td>\n",
       "      <td>airport</td>\n",
       "    </tr>\n",
       "    <tr>\n",
       "      <th>1808</th>\n",
       "      <td>37.460191</td>\n",
       "      <td>126.440696</td>\n",
       "      <td>airport</td>\n",
       "    </tr>\n",
       "    <tr>\n",
       "      <th>1809</th>\n",
       "      <td>37.500014</td>\n",
       "      <td>126.923893</td>\n",
       "      <td>hospital</td>\n",
       "    </tr>\n",
       "    <tr>\n",
       "      <th>1810</th>\n",
       "      <td>37.504569</td>\n",
       "      <td>126.940919</td>\n",
       "      <td>hospital</td>\n",
       "    </tr>\n",
       "    <tr>\n",
       "      <th>1811</th>\n",
       "      <td>37.474912</td>\n",
       "      <td>126.980874</td>\n",
       "      <td>lodging</td>\n",
       "    </tr>\n",
       "    <tr>\n",
       "      <th>1812</th>\n",
       "      <td>37.473636</td>\n",
       "      <td>126.981142</td>\n",
       "      <td>etc</td>\n",
       "    </tr>\n",
       "    <tr>\n",
       "      <th>1813</th>\n",
       "      <td>37.473697</td>\n",
       "      <td>126.981411</td>\n",
       "      <td>etc</td>\n",
       "    </tr>\n",
       "    <tr>\n",
       "      <th>1814</th>\n",
       "      <td>37.474912</td>\n",
       "      <td>126.980874</td>\n",
       "      <td>lodging</td>\n",
       "    </tr>\n",
       "  </tbody>\n",
       "</table>\n",
       "</div>"
      ],
      "text/plain": [
       "       latitude   longitude      type\n",
       "1807  37.456256  126.705206   airport\n",
       "1808  37.460191  126.440696   airport\n",
       "1809  37.500014  126.923893  hospital\n",
       "1810  37.504569  126.940919  hospital\n",
       "1811  37.474912  126.980874   lodging\n",
       "1812  37.473636  126.981142       etc\n",
       "1813  37.473697  126.981411       etc\n",
       "1814  37.474912  126.980874   lodging"
      ]
     },
     "execution_count": 11,
     "metadata": {},
     "output_type": "execute_result"
    }
   ],
   "source": [
    "data[data.patient_id == 1000000350][['latitude', 'longitude', 'type']]"
   ]
  },
  {
   "cell_type": "code",
   "execution_count": 12,
   "metadata": {},
   "outputs": [
    {
     "data": {
      "text/html": [
       "<div>\n",
       "<style scoped>\n",
       "    .dataframe tbody tr th:only-of-type {\n",
       "        vertical-align: middle;\n",
       "    }\n",
       "\n",
       "    .dataframe tbody tr th {\n",
       "        vertical-align: top;\n",
       "    }\n",
       "\n",
       "    .dataframe thead th {\n",
       "        text-align: right;\n",
       "    }\n",
       "</style>\n",
       "<table border=\"1\" class=\"dataframe\">\n",
       "  <thead>\n",
       "    <tr style=\"text-align: right;\">\n",
       "      <th></th>\n",
       "      <th>latitude</th>\n",
       "      <th>longitude</th>\n",
       "      <th>type</th>\n",
       "    </tr>\n",
       "  </thead>\n",
       "  <tbody>\n",
       "    <tr>\n",
       "      <th>1815</th>\n",
       "      <td>37.456256</td>\n",
       "      <td>126.705206</td>\n",
       "      <td>airport</td>\n",
       "    </tr>\n",
       "    <tr>\n",
       "      <th>1816</th>\n",
       "      <td>37.460191</td>\n",
       "      <td>126.440696</td>\n",
       "      <td>airport</td>\n",
       "    </tr>\n",
       "    <tr>\n",
       "      <th>1817</th>\n",
       "      <td>37.500014</td>\n",
       "      <td>126.923893</td>\n",
       "      <td>hospital</td>\n",
       "    </tr>\n",
       "    <tr>\n",
       "      <th>1818</th>\n",
       "      <td>37.504569</td>\n",
       "      <td>126.940919</td>\n",
       "      <td>hospital</td>\n",
       "    </tr>\n",
       "    <tr>\n",
       "      <th>1819</th>\n",
       "      <td>37.474912</td>\n",
       "      <td>126.980874</td>\n",
       "      <td>lodging</td>\n",
       "    </tr>\n",
       "    <tr>\n",
       "      <th>1820</th>\n",
       "      <td>37.473636</td>\n",
       "      <td>126.981142</td>\n",
       "      <td>etc</td>\n",
       "    </tr>\n",
       "    <tr>\n",
       "      <th>1821</th>\n",
       "      <td>37.473697</td>\n",
       "      <td>126.981411</td>\n",
       "      <td>etc</td>\n",
       "    </tr>\n",
       "    <tr>\n",
       "      <th>1822</th>\n",
       "      <td>37.474912</td>\n",
       "      <td>126.980874</td>\n",
       "      <td>lodging</td>\n",
       "    </tr>\n",
       "  </tbody>\n",
       "</table>\n",
       "</div>"
      ],
      "text/plain": [
       "       latitude   longitude      type\n",
       "1815  37.456256  126.705206   airport\n",
       "1816  37.460191  126.440696   airport\n",
       "1817  37.500014  126.923893  hospital\n",
       "1818  37.504569  126.940919  hospital\n",
       "1819  37.474912  126.980874   lodging\n",
       "1820  37.473636  126.981142       etc\n",
       "1821  37.473697  126.981411       etc\n",
       "1822  37.474912  126.980874   lodging"
      ]
     },
     "execution_count": 12,
     "metadata": {},
     "output_type": "execute_result"
    }
   ],
   "source": [
    "data[data.patient_id == 1000000351][['latitude', 'longitude', 'type']]"
   ]
  },
  {
   "cell_type": "code",
   "execution_count": 14,
   "metadata": {},
   "outputs": [
    {
     "data": {
      "text/plain": [
       "(644, 1170)"
      ]
     },
     "execution_count": 14,
     "metadata": {},
     "output_type": "execute_result"
    }
   ],
   "source": [
    "import numpy as np\n",
    "for elt in groups:\n",
    "    if len(elt) > 1:\n",
    "        for i in range(len(elt)-1):\n",
    "            G.add_edge(elt[i], elt[i++1], t=float(0.1))\n",
    "            \n",
    "len(G), G.size()"
   ]
  },
  {
   "cell_type": "code",
   "execution_count": 15,
   "metadata": {},
   "outputs": [
    {
     "name": "stdout",
     "output_type": "stream",
     "text": [
      "original characteristic path length not connected, \n",
      "original characteristic path length of biggest component 5.6461423956740555,\n",
      "original network density 0.005650918153453822,\n",
      "original network average degree 3.6335403726708075,\n",
      "original transitivity 0.06745737583395107, \n",
      "original average clustering coefficient 0.07180198166223016, \n",
      "original number of connected components 14, \n",
      "original average size of a connected component 46.0\n"
     ]
    }
   ],
   "source": [
    "char_path_length = 'not connected'\n",
    "pos_max = np.argmax([len(listElem) for listElem in sorted(nx.connected_components(G))])\n",
    "char_path_length_component = [nx.average_shortest_path_length(G.subgraph(g)) for g in sorted(nx.connected_components(G))][pos_max]\n",
    "\n",
    "density = nx.density(G)\n",
    "degree = sum(dict(G.degree()).values())/len(G)\n",
    "transitivity = nx.transitivity(G)\n",
    "clustering_coef = nx.average_clustering(G)\n",
    "\n",
    "n_connected_comp = nx.number_connected_components(G)\n",
    "size_connected_comp = sum([len(listElem) for listElem in sorted(nx.connected_components(G))])/len(sorted(nx.connected_components(G)))\n",
    "\n",
    "print(f'original characteristic path length {char_path_length}, \\noriginal characteristic path length of biggest component {char_path_length_component},\\noriginal network density {density},\\noriginal network average degree {degree},\\noriginal transitivity {transitivity}, \\noriginal average clustering coefficient {clustering_coef}, \\noriginal number of connected components {n_connected_comp}, \\noriginal average size of a connected component {size_connected_comp}')"
   ]
  },
  {
   "cell_type": "code",
   "execution_count": 15,
   "metadata": {},
   "outputs": [],
   "source": [
    "import Visualizer"
   ]
  },
  {
   "cell_type": "code",
   "execution_count": 16,
   "metadata": {},
   "outputs": [],
   "source": [
    "def simulate_sirs(G,beta,gamma,xi,f,lst_initial_immune,lst_initial_infected):\n",
    "    attDict = {}\n",
    "    for node in lst_initial_immune:\n",
    "        attDict[node] = [0]\n",
    "    for node in lst_initial_infected:\n",
    "        attDict[node] = [1]\n",
    "    t = 0\n",
    "    D = []\n",
    "    D.append([len(lst_initial_immune), len(lst_initial_infected), 0])\n",
    "    while t < f:\n",
    "        S = 0\n",
    "        I = 0\n",
    "        R = 0\n",
    "        for node in list(attDict.keys()):\n",
    "            if attDict[node][t] == 0:\n",
    "                if np.random.random() < beta:\n",
    "                    attDict[node].append(1)\n",
    "                    I += 1\n",
    "                else:\n",
    "                    attDict[node].append(0)\n",
    "                    S += 1\n",
    "            if attDict[node][t] == 1:\n",
    "                if np.random.random() < gamma:\n",
    "                    attDict[node].append(2)\n",
    "                    R += 1\n",
    "                else:\n",
    "                    attDict[node].append(1)\n",
    "                    I += 1\n",
    "            if attDict[node][t] == 2:\n",
    "                if np.random.random() < xi:\n",
    "                    attDict[node].append(0)\n",
    "                    S += 1\n",
    "                else:\n",
    "                    attDict[node].append(2)\n",
    "                    R += 1\n",
    "        D.append([S,I,R])\n",
    "        t+=1\n",
    "    nx.set_node_attributes(G,attDict,\"state\")\n",
    "    return D"
   ]
  },
  {
   "cell_type": "code",
   "execution_count": 17,
   "metadata": {},
   "outputs": [
    {
     "name": "stdout",
     "output_type": "stream",
     "text": [
      "[[640, 4, 0], [474, 170, 0], [355, 285, 4], [256, 368, 20], [186, 423, 35], [139, 449, 56], [107, 459, 78], [77, 463, 104], [65, 450, 129], [39, 451, 154], [26, 443, 175], [20, 426, 198], [14, 415, 215], [11, 393, 240], [10, 377, 257], [7, 365, 272], [5, 354, 285], [1, 344, 299], [0, 328, 316], [0, 307, 337], [0, 293, 351], [0, 280, 364], [0, 261, 383], [0, 250, 394], [0, 237, 407], [0, 225, 419], [0, 218, 426], [0, 208, 436], [0, 196, 448], [0, 186, 458], [0, 182, 462], [0, 171, 473], [0, 163, 481], [1, 151, 492], [0, 147, 497], [0, 137, 507]]\n"
     ]
    }
   ],
   "source": [
    "D = simulate_sirs(G, 0.25, 0.05, 0.0001, 35, list(G.nodes)[:640], list(G.nodes)[640:])\n",
    "print(D)"
   ]
  },
  {
   "cell_type": "code",
   "execution_count": 19,
   "metadata": {},
   "outputs": [
    {
     "name": "stdout",
     "output_type": "stream",
     "text": [
      "Nodes positions computed.\n",
      "Edges trace computed.\n",
      "Nodes trace computed.\n",
      "Frames computed.\n",
      "Figure generated.\n",
      "Visualization rendering done\n",
      "File saved.\n"
     ]
    }
   ],
   "source": [
    "Visualizer.showSIRS(G, \"test_simulation_real_data.html\", 0.25, 0.05, 0.0001, 35, D)"
   ]
  },
  {
   "cell_type": "code",
   "execution_count": 20,
   "metadata": {},
   "outputs": [],
   "source": [
    "Visualizer.showData(D, \"test_data_real_data.html\", 0.25, 0.05, 0.0001)"
   ]
  },
  {
   "cell_type": "code",
   "execution_count": 18,
   "metadata": {},
   "outputs": [
    {
     "data": {
      "text/html": [
       "<div>\n",
       "<style scoped>\n",
       "    .dataframe tbody tr th:only-of-type {\n",
       "        vertical-align: middle;\n",
       "    }\n",
       "\n",
       "    .dataframe tbody tr th {\n",
       "        vertical-align: top;\n",
       "    }\n",
       "\n",
       "    .dataframe thead th {\n",
       "        text-align: right;\n",
       "    }\n",
       "</style>\n",
       "<table border=\"1\" class=\"dataframe\">\n",
       "  <thead>\n",
       "    <tr style=\"text-align: right;\">\n",
       "      <th></th>\n",
       "      <th>date</th>\n",
       "      <th>released_date</th>\n",
       "      <th>deceased_date</th>\n",
       "    </tr>\n",
       "  </thead>\n",
       "  <tbody>\n",
       "    <tr>\n",
       "      <th>0</th>\n",
       "      <td>2020-01-22</td>\n",
       "      <td>2020-02-05</td>\n",
       "      <td>NaN</td>\n",
       "    </tr>\n",
       "    <tr>\n",
       "      <th>1</th>\n",
       "      <td>2020-01-24</td>\n",
       "      <td>2020-02-05</td>\n",
       "      <td>NaN</td>\n",
       "    </tr>\n",
       "    <tr>\n",
       "      <th>2</th>\n",
       "      <td>2020-01-25</td>\n",
       "      <td>2020-03-02</td>\n",
       "      <td>NaN</td>\n",
       "    </tr>\n",
       "    <tr>\n",
       "      <th>3</th>\n",
       "      <td>2020-01-26</td>\n",
       "      <td>2020-03-02</td>\n",
       "      <td>NaN</td>\n",
       "    </tr>\n",
       "    <tr>\n",
       "      <th>4</th>\n",
       "      <td>2020-01-26</td>\n",
       "      <td>2020-03-02</td>\n",
       "      <td>NaN</td>\n",
       "    </tr>\n",
       "    <tr>\n",
       "      <th>...</th>\n",
       "      <td>...</td>\n",
       "      <td>...</td>\n",
       "      <td>...</td>\n",
       "    </tr>\n",
       "    <tr>\n",
       "      <th>3257</th>\n",
       "      <td>2020-05-13</td>\n",
       "      <td>NaN</td>\n",
       "      <td>NaN</td>\n",
       "    </tr>\n",
       "    <tr>\n",
       "      <th>3258</th>\n",
       "      <td>2020-04-30</td>\n",
       "      <td>NaN</td>\n",
       "      <td>NaN</td>\n",
       "    </tr>\n",
       "    <tr>\n",
       "      <th>3259</th>\n",
       "      <td>2020-05-09</td>\n",
       "      <td>NaN</td>\n",
       "      <td>NaN</td>\n",
       "    </tr>\n",
       "    <tr>\n",
       "      <th>3260</th>\n",
       "      <td>2020-05-12</td>\n",
       "      <td>NaN</td>\n",
       "      <td>NaN</td>\n",
       "    </tr>\n",
       "    <tr>\n",
       "      <th>3261</th>\n",
       "      <td>2020-05-13</td>\n",
       "      <td>NaN</td>\n",
       "      <td>NaN</td>\n",
       "    </tr>\n",
       "  </tbody>\n",
       "</table>\n",
       "<p>3262 rows × 3 columns</p>\n",
       "</div>"
      ],
      "text/plain": [
       "            date released_date deceased_date\n",
       "0     2020-01-22    2020-02-05           NaN\n",
       "1     2020-01-24    2020-02-05           NaN\n",
       "2     2020-01-25    2020-03-02           NaN\n",
       "3     2020-01-26    2020-03-02           NaN\n",
       "4     2020-01-26    2020-03-02           NaN\n",
       "...          ...           ...           ...\n",
       "3257  2020-05-13           NaN           NaN\n",
       "3258  2020-04-30           NaN           NaN\n",
       "3259  2020-05-09           NaN           NaN\n",
       "3260  2020-05-12           NaN           NaN\n",
       "3261  2020-05-13           NaN           NaN\n",
       "\n",
       "[3262 rows x 3 columns]"
      ]
     },
     "execution_count": 18,
     "metadata": {},
     "output_type": "execute_result"
    }
   ],
   "source": [
    "data[['date', 'released_date', 'deceased_date']]"
   ]
  },
  {
   "cell_type": "code",
   "execution_count": 19,
   "metadata": {},
   "outputs": [],
   "source": [
    "data['date'] = pd.to_datetime(data['date'])\n",
    "data['released_date'] = pd.to_datetime(data['released_date'])\n",
    "data['deceased_date'] = pd.to_datetime(data['deceased_date'])"
   ]
  },
  {
   "cell_type": "code",
   "execution_count": 20,
   "metadata": {},
   "outputs": [
    {
     "data": {
      "text/html": [
       "<div>\n",
       "<style scoped>\n",
       "    .dataframe tbody tr th:only-of-type {\n",
       "        vertical-align: middle;\n",
       "    }\n",
       "\n",
       "    .dataframe tbody tr th {\n",
       "        vertical-align: top;\n",
       "    }\n",
       "\n",
       "    .dataframe thead th {\n",
       "        text-align: right;\n",
       "    }\n",
       "</style>\n",
       "<table border=\"1\" class=\"dataframe\">\n",
       "  <thead>\n",
       "    <tr style=\"text-align: right;\">\n",
       "      <th></th>\n",
       "      <th>date</th>\n",
       "      <th>released_date</th>\n",
       "      <th>deceased_date</th>\n",
       "    </tr>\n",
       "  </thead>\n",
       "  <tbody>\n",
       "    <tr>\n",
       "      <th>0</th>\n",
       "      <td>2020-01-22</td>\n",
       "      <td>2020-02-05</td>\n",
       "      <td>NaT</td>\n",
       "    </tr>\n",
       "    <tr>\n",
       "      <th>1</th>\n",
       "      <td>2020-01-24</td>\n",
       "      <td>2020-02-05</td>\n",
       "      <td>NaT</td>\n",
       "    </tr>\n",
       "    <tr>\n",
       "      <th>2</th>\n",
       "      <td>2020-01-25</td>\n",
       "      <td>2020-03-02</td>\n",
       "      <td>NaT</td>\n",
       "    </tr>\n",
       "    <tr>\n",
       "      <th>3</th>\n",
       "      <td>2020-01-26</td>\n",
       "      <td>2020-03-02</td>\n",
       "      <td>NaT</td>\n",
       "    </tr>\n",
       "    <tr>\n",
       "      <th>4</th>\n",
       "      <td>2020-01-26</td>\n",
       "      <td>2020-03-02</td>\n",
       "      <td>NaT</td>\n",
       "    </tr>\n",
       "    <tr>\n",
       "      <th>...</th>\n",
       "      <td>...</td>\n",
       "      <td>...</td>\n",
       "      <td>...</td>\n",
       "    </tr>\n",
       "    <tr>\n",
       "      <th>3257</th>\n",
       "      <td>2020-05-13</td>\n",
       "      <td>NaT</td>\n",
       "      <td>NaT</td>\n",
       "    </tr>\n",
       "    <tr>\n",
       "      <th>3258</th>\n",
       "      <td>2020-04-30</td>\n",
       "      <td>NaT</td>\n",
       "      <td>NaT</td>\n",
       "    </tr>\n",
       "    <tr>\n",
       "      <th>3259</th>\n",
       "      <td>2020-05-09</td>\n",
       "      <td>NaT</td>\n",
       "      <td>NaT</td>\n",
       "    </tr>\n",
       "    <tr>\n",
       "      <th>3260</th>\n",
       "      <td>2020-05-12</td>\n",
       "      <td>NaT</td>\n",
       "      <td>NaT</td>\n",
       "    </tr>\n",
       "    <tr>\n",
       "      <th>3261</th>\n",
       "      <td>2020-05-13</td>\n",
       "      <td>NaT</td>\n",
       "      <td>NaT</td>\n",
       "    </tr>\n",
       "  </tbody>\n",
       "</table>\n",
       "<p>3262 rows × 3 columns</p>\n",
       "</div>"
      ],
      "text/plain": [
       "           date released_date deceased_date\n",
       "0    2020-01-22    2020-02-05           NaT\n",
       "1    2020-01-24    2020-02-05           NaT\n",
       "2    2020-01-25    2020-03-02           NaT\n",
       "3    2020-01-26    2020-03-02           NaT\n",
       "4    2020-01-26    2020-03-02           NaT\n",
       "...         ...           ...           ...\n",
       "3257 2020-05-13           NaT           NaT\n",
       "3258 2020-04-30           NaT           NaT\n",
       "3259 2020-05-09           NaT           NaT\n",
       "3260 2020-05-12           NaT           NaT\n",
       "3261 2020-05-13           NaT           NaT\n",
       "\n",
       "[3262 rows x 3 columns]"
      ]
     },
     "execution_count": 20,
     "metadata": {},
     "output_type": "execute_result"
    }
   ],
   "source": [
    "data[['date', 'released_date', 'deceased_date']]"
   ]
  },
  {
   "cell_type": "code",
   "execution_count": 21,
   "metadata": {},
   "outputs": [
    {
     "data": {
      "text/plain": [
       "Timestamp('2020-01-22 00:00:00')"
      ]
     },
     "execution_count": 21,
     "metadata": {},
     "output_type": "execute_result"
    }
   ],
   "source": [
    "data['date'].min()"
   ]
  },
  {
   "cell_type": "code",
   "execution_count": 22,
   "metadata": {},
   "outputs": [
    {
     "data": {
      "text/plain": [
       "Timestamp('2020-05-13 00:00:00')"
      ]
     },
     "execution_count": 22,
     "metadata": {},
     "output_type": "execute_result"
    }
   ],
   "source": [
    "data['date'].max()"
   ]
  },
  {
   "cell_type": "code",
   "execution_count": 23,
   "metadata": {},
   "outputs": [
    {
     "data": {
      "text/html": [
       "<div>\n",
       "<style scoped>\n",
       "    .dataframe tbody tr th:only-of-type {\n",
       "        vertical-align: middle;\n",
       "    }\n",
       "\n",
       "    .dataframe tbody tr th {\n",
       "        vertical-align: top;\n",
       "    }\n",
       "\n",
       "    .dataframe thead th {\n",
       "        text-align: right;\n",
       "    }\n",
       "</style>\n",
       "<table border=\"1\" class=\"dataframe\">\n",
       "  <thead>\n",
       "    <tr style=\"text-align: right;\">\n",
       "      <th></th>\n",
       "      <th>date num</th>\n",
       "      <th>date released num</th>\n",
       "      <th>date deceased num</th>\n",
       "    </tr>\n",
       "  </thead>\n",
       "  <tbody>\n",
       "    <tr>\n",
       "      <th>0</th>\n",
       "      <td>0</td>\n",
       "      <td>14.0</td>\n",
       "      <td>NaN</td>\n",
       "    </tr>\n",
       "    <tr>\n",
       "      <th>1</th>\n",
       "      <td>2</td>\n",
       "      <td>14.0</td>\n",
       "      <td>NaN</td>\n",
       "    </tr>\n",
       "    <tr>\n",
       "      <th>2</th>\n",
       "      <td>3</td>\n",
       "      <td>40.0</td>\n",
       "      <td>NaN</td>\n",
       "    </tr>\n",
       "    <tr>\n",
       "      <th>3</th>\n",
       "      <td>4</td>\n",
       "      <td>40.0</td>\n",
       "      <td>NaN</td>\n",
       "    </tr>\n",
       "    <tr>\n",
       "      <th>4</th>\n",
       "      <td>4</td>\n",
       "      <td>40.0</td>\n",
       "      <td>NaN</td>\n",
       "    </tr>\n",
       "    <tr>\n",
       "      <th>...</th>\n",
       "      <td>...</td>\n",
       "      <td>...</td>\n",
       "      <td>...</td>\n",
       "    </tr>\n",
       "    <tr>\n",
       "      <th>3257</th>\n",
       "      <td>112</td>\n",
       "      <td>NaN</td>\n",
       "      <td>NaN</td>\n",
       "    </tr>\n",
       "    <tr>\n",
       "      <th>3258</th>\n",
       "      <td>99</td>\n",
       "      <td>NaN</td>\n",
       "      <td>NaN</td>\n",
       "    </tr>\n",
       "    <tr>\n",
       "      <th>3259</th>\n",
       "      <td>108</td>\n",
       "      <td>NaN</td>\n",
       "      <td>NaN</td>\n",
       "    </tr>\n",
       "    <tr>\n",
       "      <th>3260</th>\n",
       "      <td>111</td>\n",
       "      <td>NaN</td>\n",
       "      <td>NaN</td>\n",
       "    </tr>\n",
       "    <tr>\n",
       "      <th>3261</th>\n",
       "      <td>112</td>\n",
       "      <td>NaN</td>\n",
       "      <td>NaN</td>\n",
       "    </tr>\n",
       "  </tbody>\n",
       "</table>\n",
       "<p>3262 rows × 3 columns</p>\n",
       "</div>"
      ],
      "text/plain": [
       "      date num  date released num  date deceased num\n",
       "0            0               14.0                NaN\n",
       "1            2               14.0                NaN\n",
       "2            3               40.0                NaN\n",
       "3            4               40.0                NaN\n",
       "4            4               40.0                NaN\n",
       "...        ...                ...                ...\n",
       "3257       112                NaN                NaN\n",
       "3258        99                NaN                NaN\n",
       "3259       108                NaN                NaN\n",
       "3260       111                NaN                NaN\n",
       "3261       112                NaN                NaN\n",
       "\n",
       "[3262 rows x 3 columns]"
      ]
     },
     "execution_count": 23,
     "metadata": {},
     "output_type": "execute_result"
    }
   ],
   "source": [
    "basedate = data['date'].min()\n",
    "data['date num'] = data['date'].apply(lambda x: (x - basedate).days)\n",
    "data['date released num'] = data['released_date'].apply(lambda x: (x - basedate).days)\n",
    "data['date deceased num'] = data['deceased_date'].apply(lambda x: (x - basedate).days)\n",
    "data[['date num', 'date released num', 'date deceased num']]"
   ]
  },
  {
   "cell_type": "code",
   "execution_count": 24,
   "metadata": {},
   "outputs": [
    {
     "data": {
      "text/plain": [
       "<Figure size 432x288 with 0 Axes>"
      ]
     },
     "execution_count": 24,
     "metadata": {},
     "output_type": "execute_result"
    },
    {
     "data": {
      "image/png": "[encoded data removed]",
      "text/plain": [
       "<Figure size 432x288 with 1 Axes>"
      ]
     },
     "metadata": {
      "needs_background": "light"
     },
     "output_type": "display_data"
    },
    {
     "data": {
      "text/plain": [
       "<Figure size 432x288 with 0 Axes>"
      ]
     },
     "metadata": {},
     "output_type": "display_data"
    }
   ],
   "source": [
    "import matplotlib.pyplot as plt\n",
    "df = data[['date num', 'date released num', 'date deceased num']]\n",
    "df = df.plot()\n",
    "plt.figure()"
   ]
  },
  {
   "cell_type": "code",
   "execution_count": 25,
   "metadata": {},
   "outputs": [
    {
     "data": {
      "text/plain": [
       "0"
      ]
     },
     "execution_count": 25,
     "metadata": {},
     "output_type": "execute_result"
    }
   ],
   "source": [
    "sum(data['date deceased num'].notna())"
   ]
  },
  {
   "cell_type": "code",
   "execution_count": 26,
   "metadata": {},
   "outputs": [
    {
     "data": {
      "text/plain": [
       "304"
      ]
     },
     "execution_count": 26,
     "metadata": {},
     "output_type": "execute_result"
    }
   ],
   "source": [
    "sum(data['date released num'].notna())"
   ]
  },
  {
   "cell_type": "code",
   "execution_count": 27,
   "metadata": {},
   "outputs": [
    {
     "data": {
      "text/plain": [
       "112"
      ]
     },
     "execution_count": 27,
     "metadata": {},
     "output_type": "execute_result"
    }
   ],
   "source": [
    "data['date num'].max()"
   ]
  },
  {
   "cell_type": "code",
   "execution_count": 28,
   "metadata": {},
   "outputs": [
    {
     "data": {
      "text/plain": [
       "((3262, 28), (640, 28))"
      ]
     },
     "execution_count": 28,
     "metadata": {},
     "output_type": "execute_result"
    }
   ],
   "source": [
    "df = data.drop_duplicates(subset='patient_id')\n",
    "data.shape, df.shape"
   ]
  },
  {
   "cell_type": "code",
   "execution_count": 29,
   "metadata": {},
   "outputs": [],
   "source": [
    "def num_infected_at_time(data, time):\n",
    "    num_infected = sum(data['date num'] < time)\n",
    "    num_released = sum(data['date released num'] < time)\n",
    "    return num_infected, num_released"
   ]
  },
  {
   "cell_type": "code",
   "execution_count": 30,
   "metadata": {},
   "outputs": [
    {
     "name": "stdout",
     "output_type": "stream",
     "text": [
      "(0, 0)\n",
      "(4, 0)\n",
      "(13, 0)\n",
      "(19, 1)\n",
      "(28, 2)\n",
      "(56, 5)\n",
      "(92, 8)\n",
      "(134, 18)\n",
      "(220, 25)\n",
      "(268, 39)\n",
      "(334, 51)\n",
      "(416, 51)\n",
      "(497, 51)\n",
      "(538, 51)\n",
      "(556, 51)\n",
      "(561, 51)\n",
      "(564, 51)\n",
      "(577, 51)\n",
      "(624, 51)\n"
     ]
    }
   ],
   "source": [
    "#number of infected and number of recovered every 7 days\n",
    "for i in range(0,112,6):\n",
    "    print(num_infected_at_time(df, i))"
   ]
  },
  {
   "cell_type": "code",
   "execution_count": 31,
   "metadata": {},
   "outputs": [],
   "source": [
    "with open('./coronavirusdataset/Time.csv', 'rb') as infile:\n",
    "    time = pd.read_csv(infile)"
   ]
  },
  {
   "cell_type": "code",
   "execution_count": 32,
   "metadata": {},
   "outputs": [
    {
     "data": {
      "text/html": [
       "<div>\n",
       "<style scoped>\n",
       "    .dataframe tbody tr th:only-of-type {\n",
       "        vertical-align: middle;\n",
       "    }\n",
       "\n",
       "    .dataframe tbody tr th {\n",
       "        vertical-align: top;\n",
       "    }\n",
       "\n",
       "    .dataframe thead th {\n",
       "        text-align: right;\n",
       "    }\n",
       "</style>\n",
       "<table border=\"1\" class=\"dataframe\">\n",
       "  <thead>\n",
       "    <tr style=\"text-align: right;\">\n",
       "      <th></th>\n",
       "      <th>confirmed</th>\n",
       "      <th>released</th>\n",
       "      <th>deceased</th>\n",
       "    </tr>\n",
       "  </thead>\n",
       "  <tbody>\n",
       "    <tr>\n",
       "      <th>0</th>\n",
       "      <td>1</td>\n",
       "      <td>0</td>\n",
       "      <td>0</td>\n",
       "    </tr>\n",
       "    <tr>\n",
       "      <th>1</th>\n",
       "      <td>1</td>\n",
       "      <td>0</td>\n",
       "      <td>0</td>\n",
       "    </tr>\n",
       "    <tr>\n",
       "      <th>2</th>\n",
       "      <td>1</td>\n",
       "      <td>0</td>\n",
       "      <td>0</td>\n",
       "    </tr>\n",
       "    <tr>\n",
       "      <th>3</th>\n",
       "      <td>1</td>\n",
       "      <td>0</td>\n",
       "      <td>0</td>\n",
       "    </tr>\n",
       "    <tr>\n",
       "      <th>4</th>\n",
       "      <td>2</td>\n",
       "      <td>0</td>\n",
       "      <td>0</td>\n",
       "    </tr>\n",
       "    <tr>\n",
       "      <th>...</th>\n",
       "      <td>...</td>\n",
       "      <td>...</td>\n",
       "      <td>...</td>\n",
       "    </tr>\n",
       "    <tr>\n",
       "      <th>111</th>\n",
       "      <td>10874</td>\n",
       "      <td>9610</td>\n",
       "      <td>256</td>\n",
       "    </tr>\n",
       "    <tr>\n",
       "      <th>112</th>\n",
       "      <td>10909</td>\n",
       "      <td>9632</td>\n",
       "      <td>256</td>\n",
       "    </tr>\n",
       "    <tr>\n",
       "      <th>113</th>\n",
       "      <td>10936</td>\n",
       "      <td>9670</td>\n",
       "      <td>258</td>\n",
       "    </tr>\n",
       "    <tr>\n",
       "      <th>114</th>\n",
       "      <td>10962</td>\n",
       "      <td>9695</td>\n",
       "      <td>259</td>\n",
       "    </tr>\n",
       "    <tr>\n",
       "      <th>115</th>\n",
       "      <td>10991</td>\n",
       "      <td>9762</td>\n",
       "      <td>260</td>\n",
       "    </tr>\n",
       "  </tbody>\n",
       "</table>\n",
       "<p>116 rows × 3 columns</p>\n",
       "</div>"
      ],
      "text/plain": [
       "     confirmed  released  deceased\n",
       "0            1         0         0\n",
       "1            1         0         0\n",
       "2            1         0         0\n",
       "3            1         0         0\n",
       "4            2         0         0\n",
       "..         ...       ...       ...\n",
       "111      10874      9610       256\n",
       "112      10909      9632       256\n",
       "113      10936      9670       258\n",
       "114      10962      9695       259\n",
       "115      10991      9762       260\n",
       "\n",
       "[116 rows x 3 columns]"
      ]
     },
     "execution_count": 32,
     "metadata": {},
     "output_type": "execute_result"
    }
   ],
   "source": [
    "time[['confirmed', 'released', 'deceased']]"
   ]
  },
  {
   "cell_type": "code",
   "execution_count": 33,
   "metadata": {},
   "outputs": [
    {
     "data": {
      "text/plain": [
       "17.1734375"
      ]
     },
     "execution_count": 33,
     "metadata": {},
     "output_type": "execute_result"
    }
   ],
   "source": [
    "10991/640"
   ]
  },
  {
   "cell_type": "code",
   "execution_count": 34,
   "metadata": {},
   "outputs": [
    {
     "data": {
      "text/html": [
       "<div>\n",
       "<style scoped>\n",
       "    .dataframe tbody tr th:only-of-type {\n",
       "        vertical-align: middle;\n",
       "    }\n",
       "\n",
       "    .dataframe tbody tr th {\n",
       "        vertical-align: top;\n",
       "    }\n",
       "\n",
       "    .dataframe thead th {\n",
       "        text-align: right;\n",
       "    }\n",
       "</style>\n",
       "<table border=\"1\" class=\"dataframe\">\n",
       "  <thead>\n",
       "    <tr style=\"text-align: right;\">\n",
       "      <th></th>\n",
       "      <th>confirmed</th>\n",
       "      <th>released</th>\n",
       "      <th>deceased</th>\n",
       "    </tr>\n",
       "  </thead>\n",
       "  <tbody>\n",
       "    <tr>\n",
       "      <th>0</th>\n",
       "      <td>0.058229</td>\n",
       "      <td>0.000000</td>\n",
       "      <td>0.000000</td>\n",
       "    </tr>\n",
       "    <tr>\n",
       "      <th>1</th>\n",
       "      <td>0.058229</td>\n",
       "      <td>0.000000</td>\n",
       "      <td>0.000000</td>\n",
       "    </tr>\n",
       "    <tr>\n",
       "      <th>2</th>\n",
       "      <td>0.058229</td>\n",
       "      <td>0.000000</td>\n",
       "      <td>0.000000</td>\n",
       "    </tr>\n",
       "    <tr>\n",
       "      <th>3</th>\n",
       "      <td>0.058229</td>\n",
       "      <td>0.000000</td>\n",
       "      <td>0.000000</td>\n",
       "    </tr>\n",
       "    <tr>\n",
       "      <th>4</th>\n",
       "      <td>0.116459</td>\n",
       "      <td>0.000000</td>\n",
       "      <td>0.000000</td>\n",
       "    </tr>\n",
       "    <tr>\n",
       "      <th>...</th>\n",
       "      <td>...</td>\n",
       "      <td>...</td>\n",
       "      <td>...</td>\n",
       "    </tr>\n",
       "    <tr>\n",
       "      <th>111</th>\n",
       "      <td>633.187153</td>\n",
       "      <td>559.585115</td>\n",
       "      <td>14.906742</td>\n",
       "    </tr>\n",
       "    <tr>\n",
       "      <th>112</th>\n",
       "      <td>635.225184</td>\n",
       "      <td>560.866163</td>\n",
       "      <td>14.906742</td>\n",
       "    </tr>\n",
       "    <tr>\n",
       "      <th>113</th>\n",
       "      <td>636.797380</td>\n",
       "      <td>563.078883</td>\n",
       "      <td>15.023201</td>\n",
       "    </tr>\n",
       "    <tr>\n",
       "      <th>114</th>\n",
       "      <td>638.311346</td>\n",
       "      <td>564.534619</td>\n",
       "      <td>15.081430</td>\n",
       "    </tr>\n",
       "    <tr>\n",
       "      <th>115</th>\n",
       "      <td>640.000000</td>\n",
       "      <td>568.435993</td>\n",
       "      <td>15.139660</td>\n",
       "    </tr>\n",
       "  </tbody>\n",
       "</table>\n",
       "<p>116 rows × 3 columns</p>\n",
       "</div>"
      ],
      "text/plain": [
       "      confirmed    released   deceased\n",
       "0      0.058229    0.000000   0.000000\n",
       "1      0.058229    0.000000   0.000000\n",
       "2      0.058229    0.000000   0.000000\n",
       "3      0.058229    0.000000   0.000000\n",
       "4      0.116459    0.000000   0.000000\n",
       "..          ...         ...        ...\n",
       "111  633.187153  559.585115  14.906742\n",
       "112  635.225184  560.866163  14.906742\n",
       "113  636.797380  563.078883  15.023201\n",
       "114  638.311346  564.534619  15.081430\n",
       "115  640.000000  568.435993  15.139660\n",
       "\n",
       "[116 rows x 3 columns]"
      ]
     },
     "execution_count": 34,
     "metadata": {},
     "output_type": "execute_result"
    }
   ],
   "source": [
    "time[['confirmed', 'released', 'deceased']] / 17.1734375 "
   ]
  },
  {
   "cell_type": "code",
   "execution_count": 35,
   "metadata": {},
   "outputs": [
    {
     "name": "stdout",
     "output_type": "stream",
     "text": [
      "total cases 0\n",
      "total recovered 0\n",
      "total dead 0 \n",
      "\n",
      "total cases 1\n",
      "total recovered 0\n",
      "total dead 0 \n",
      "\n",
      "total cases 1\n",
      "total recovered 0\n",
      "total dead 0 \n",
      "\n",
      "total cases 11\n",
      "total recovered 0\n",
      "total dead 0 \n",
      "\n",
      "total cases 102\n",
      "total recovered 1\n",
      "total dead 0 \n",
      "\n",
      "total cases 310\n",
      "total recovered 2\n",
      "total dead 1 \n",
      "\n",
      "total cases 437\n",
      "total recovered 14\n",
      "total dead 3 \n",
      "\n",
      "total cases 479\n",
      "total recovered 66\n",
      "total dead 4 \n",
      "\n",
      "total cases 518\n",
      "total recovered 169\n",
      "total dead 6 \n",
      "\n",
      "total cases 551\n",
      "total recovered 280\n",
      "total dead 8 \n",
      "\n",
      "total cases 585\n",
      "total recovered 350\n",
      "total dead 10 \n",
      "\n",
      "total cases 606\n",
      "total recovered 406\n",
      "total dead 11 \n",
      "\n",
      "total cases 616\n",
      "total recovered 443\n",
      "total dead 13 \n",
      "\n",
      "total cases 622\n",
      "total recovered 478\n",
      "total dead 13 \n",
      "\n",
      "total cases 625\n",
      "total recovered 510\n",
      "total dead 14 \n",
      "\n",
      "total cases 628\n",
      "total recovered 534\n",
      "total dead 14 \n",
      "\n",
      "total cases 631\n",
      "total recovered 557\n",
      "total dead 14 \n",
      "\n"
     ]
    }
   ],
   "source": [
    "infected_at_t = []\n",
    "recovered_at_t = []\n",
    "for i in range(14,112,6):\n",
    "    print('total cases', int(time.loc[i,'confirmed'] / 17.1734375),)\n",
    "    print('total recovered', int(time.loc[i,'released'] / 17.1734375),)\n",
    "    print('total dead', int(time.loc[i,'deceased'] / 17.1734375), '\\n')\n",
    "    infected_at_t.append(int(time.loc[i,'confirmed'] / 17.1734375) - int(time.loc[i,'released'] / 17.1734375) - int(time.loc[i,'deceased'] / 17.1734375))\n",
    "    recovered_at_t.append(int(time.loc[i,'released'] / 17.1734375))"
   ]
  },
  {
   "cell_type": "code",
   "execution_count": 36,
   "metadata": {},
   "outputs": [],
   "source": [
    "with open('./coronavirusdataset/TimeProvince.csv', 'rb') as infile:\n",
    "    time = pd.read_csv(infile)\n",
    "    \n",
    "time = time[time.province=='Seoul'].reset_index()"
   ]
  },
  {
   "cell_type": "code",
   "execution_count": 37,
   "metadata": {},
   "outputs": [
    {
     "data": {
      "text/html": [
       "<div>\n",
       "<style scoped>\n",
       "    .dataframe tbody tr th:only-of-type {\n",
       "        vertical-align: middle;\n",
       "    }\n",
       "\n",
       "    .dataframe tbody tr th {\n",
       "        vertical-align: top;\n",
       "    }\n",
       "\n",
       "    .dataframe thead th {\n",
       "        text-align: right;\n",
       "    }\n",
       "</style>\n",
       "<table border=\"1\" class=\"dataframe\">\n",
       "  <thead>\n",
       "    <tr style=\"text-align: right;\">\n",
       "      <th></th>\n",
       "      <th>confirmed</th>\n",
       "      <th>released</th>\n",
       "      <th>deceased</th>\n",
       "    </tr>\n",
       "  </thead>\n",
       "  <tbody>\n",
       "    <tr>\n",
       "      <th>0</th>\n",
       "      <td>0</td>\n",
       "      <td>0</td>\n",
       "      <td>0</td>\n",
       "    </tr>\n",
       "    <tr>\n",
       "      <th>1</th>\n",
       "      <td>0</td>\n",
       "      <td>0</td>\n",
       "      <td>0</td>\n",
       "    </tr>\n",
       "    <tr>\n",
       "      <th>2</th>\n",
       "      <td>0</td>\n",
       "      <td>0</td>\n",
       "      <td>0</td>\n",
       "    </tr>\n",
       "    <tr>\n",
       "      <th>3</th>\n",
       "      <td>0</td>\n",
       "      <td>0</td>\n",
       "      <td>0</td>\n",
       "    </tr>\n",
       "    <tr>\n",
       "      <th>4</th>\n",
       "      <td>0</td>\n",
       "      <td>0</td>\n",
       "      <td>0</td>\n",
       "    </tr>\n",
       "    <tr>\n",
       "      <th>...</th>\n",
       "      <td>...</td>\n",
       "      <td>...</td>\n",
       "      <td>...</td>\n",
       "    </tr>\n",
       "    <tr>\n",
       "      <th>111</th>\n",
       "      <td>663</td>\n",
       "      <td>541</td>\n",
       "      <td>2</td>\n",
       "    </tr>\n",
       "    <tr>\n",
       "      <th>112</th>\n",
       "      <td>683</td>\n",
       "      <td>545</td>\n",
       "      <td>2</td>\n",
       "    </tr>\n",
       "    <tr>\n",
       "      <th>113</th>\n",
       "      <td>695</td>\n",
       "      <td>554</td>\n",
       "      <td>2</td>\n",
       "    </tr>\n",
       "    <tr>\n",
       "      <th>114</th>\n",
       "      <td>707</td>\n",
       "      <td>558</td>\n",
       "      <td>3</td>\n",
       "    </tr>\n",
       "    <tr>\n",
       "      <th>115</th>\n",
       "      <td>711</td>\n",
       "      <td>564</td>\n",
       "      <td>4</td>\n",
       "    </tr>\n",
       "  </tbody>\n",
       "</table>\n",
       "<p>116 rows × 3 columns</p>\n",
       "</div>"
      ],
      "text/plain": [
       "     confirmed  released  deceased\n",
       "0            0         0         0\n",
       "1            0         0         0\n",
       "2            0         0         0\n",
       "3            0         0         0\n",
       "4            0         0         0\n",
       "..         ...       ...       ...\n",
       "111        663       541         2\n",
       "112        683       545         2\n",
       "113        695       554         2\n",
       "114        707       558         3\n",
       "115        711       564         4\n",
       "\n",
       "[116 rows x 3 columns]"
      ]
     },
     "execution_count": 37,
     "metadata": {},
     "output_type": "execute_result"
    }
   ],
   "source": [
    "time[['confirmed', 'released', 'deceased']]"
   ]
  },
  {
   "cell_type": "code",
   "execution_count": 38,
   "metadata": {},
   "outputs": [
    {
     "data": {
      "text/plain": [
       "1.1109375"
      ]
     },
     "execution_count": 38,
     "metadata": {},
     "output_type": "execute_result"
    }
   ],
   "source": [
    "711/640"
   ]
  },
  {
   "cell_type": "code",
   "execution_count": 39,
   "metadata": {},
   "outputs": [
    {
     "name": "stdout",
     "output_type": "stream",
     "text": [
      "total cases 4\n",
      "total recovered 0\n",
      "total dead 0 \n",
      "\n",
      "total cases 12\n",
      "total recovered 0\n",
      "total dead 0 \n",
      "\n",
      "total cases 12\n",
      "total recovered 1\n",
      "total dead 0 \n",
      "\n",
      "total cases 24\n",
      "total recovered 4\n",
      "total dead 0 \n",
      "\n",
      "total cases 50\n",
      "total recovered 7\n",
      "total dead 0 \n",
      "\n",
      "total cases 89\n",
      "total recovered 17\n",
      "total dead 0 \n",
      "\n",
      "total cases 126\n",
      "total recovered 27\n",
      "total dead 0 \n",
      "\n",
      "total cases 227\n",
      "total recovered 46\n",
      "total dead 0 \n",
      "\n",
      "total cases 291\n",
      "total recovered 57\n",
      "total dead 0 \n",
      "\n",
      "total cases 351\n",
      "total recovered 83\n",
      "total dead 0 \n",
      "\n",
      "total cases 455\n",
      "total recovered 117\n",
      "total dead 0 \n",
      "\n",
      "total cases 531\n",
      "total recovered 156\n",
      "total dead 1 \n",
      "\n",
      "total cases 555\n",
      "total recovered 215\n",
      "total dead 1 \n",
      "\n",
      "total cases 563\n",
      "total recovered 283\n",
      "total dead 1 \n",
      "\n",
      "total cases 566\n",
      "total recovered 353\n",
      "total dead 1 \n",
      "\n",
      "total cases 573\n",
      "total recovered 425\n",
      "total dead 1 \n",
      "\n",
      "total cases 584\n",
      "total recovered 482\n",
      "total dead 1 \n",
      "\n"
     ]
    }
   ],
   "source": [
    "for i in range(14,112,6):\n",
    "    print('total cases', int(time.loc[i,'confirmed'] /1.1109375),)\n",
    "    print('total recovered', int(time.loc[i,'released'] /1.1109375),)\n",
    "    print('total dead', int(time.loc[i,'deceased'] /1.1109375), '\\n')"
   ]
  },
  {
   "cell_type": "code",
   "execution_count": 40,
   "metadata": {},
   "outputs": [
    {
     "data": {
      "text/plain": [
       "[0, 1, 1, 11, 101, 307, 420, 409, 343, 263, 225, 189, 160, 131, 101, 80, 60]"
      ]
     },
     "execution_count": 40,
     "metadata": {},
     "output_type": "execute_result"
    }
   ],
   "source": [
    "infected_at_t"
   ]
  },
  {
   "cell_type": "code",
   "execution_count": 41,
   "metadata": {},
   "outputs": [
    {
     "data": {
      "text/plain": [
       "[0, 0, 0, 0, 1, 2, 14, 66, 169, 280, 350, 406, 443, 478, 510, 534, 557]"
      ]
     },
     "execution_count": 41,
     "metadata": {},
     "output_type": "execute_result"
    }
   ],
   "source": [
    "recovered_at_t"
   ]
  },
  {
   "cell_type": "code",
   "execution_count": 42,
   "metadata": {},
   "outputs": [
    {
     "name": "stdout",
     "output_type": "stream",
     "text": [
      "[4, 285, 423, 459, 450, 443, 415, 377, 354, 328, 293, 261, 237, 218, 196, 182, 163, 147]\n"
     ]
    }
   ],
   "source": [
    "simulated_infected_at_t = [D[i][1] for i in range(len(D)) if i % 2 != 1]\n",
    "print(simulated_infected_at_t)"
   ]
  },
  {
   "cell_type": "code",
   "execution_count": 43,
   "metadata": {},
   "outputs": [
    {
     "name": "stdout",
     "output_type": "stream",
     "text": [
      "[0, 4, 35, 78, 129, 175, 215, 257, 285, 316, 351, 383, 407, 426, 448, 462, 481, 497]\n"
     ]
    }
   ],
   "source": [
    "simulated_recovered_at_t = [D[i][2] for i in range(len(D)) if i % 2 != 1]\n",
    "print(simulated_recovered_at_t)"
   ]
  },
  {
   "cell_type": "code",
   "execution_count": 45,
   "metadata": {},
   "outputs": [],
   "source": [
    "import pickle\n",
    "with open('results_random.pkl', 'rb') as file:\n",
    "    random_D = pickle.load(file)"
   ]
  },
  {
   "cell_type": "code",
   "execution_count": 46,
   "metadata": {},
   "outputs": [
    {
     "name": "stdout",
     "output_type": "stream",
     "text": [
      "[0, 127, 179, 210, 210, 201, 180, 173, 156, 142, 131, 120, 111, 101, 90, 81, 73, 66]\n"
     ]
    }
   ],
   "source": [
    "random_infected_at_t = [random_D[0][i][1] for i in range(len(random_D[0])) if i % 2 != 1]\n",
    "print(random_infected_at_t)"
   ]
  },
  {
   "cell_type": "code",
   "execution_count": 47,
   "metadata": {},
   "outputs": [
    {
     "name": "stdout",
     "output_type": "stream",
     "text": [
      "[0, 5, 18, 30, 47, 66, 90, 100, 121, 135, 146, 157, 166, 176, 187, 196, 204, 211]\n"
     ]
    }
   ],
   "source": [
    "random_recovered_at_t = [random_D[0][i][2] for i in range(len(random_D[0])) if i % 2 != 1]\n",
    "print(random_recovered_at_t)"
   ]
  },
  {
   "cell_type": "code",
   "execution_count": 48,
   "metadata": {},
   "outputs": [
    {
     "data": {
      "text/html": [
       "<div>\n",
       "<style scoped>\n",
       "    .dataframe tbody tr th:only-of-type {\n",
       "        vertical-align: middle;\n",
       "    }\n",
       "\n",
       "    .dataframe tbody tr th {\n",
       "        vertical-align: top;\n",
       "    }\n",
       "\n",
       "    .dataframe thead th {\n",
       "        text-align: right;\n",
       "    }\n",
       "</style>\n",
       "<table border=\"1\" class=\"dataframe\">\n",
       "  <thead>\n",
       "    <tr style=\"text-align: right;\">\n",
       "      <th></th>\n",
       "      <th>infected_at_t</th>\n",
       "      <th>recovered_at_t</th>\n",
       "      <th>simulated_infected_at_t</th>\n",
       "      <th>simulated_recovered_at_t</th>\n",
       "      <th>random_infected_at_t</th>\n",
       "      <th>random_recovered_at_t</th>\n",
       "    </tr>\n",
       "  </thead>\n",
       "  <tbody>\n",
       "    <tr>\n",
       "      <th>0</th>\n",
       "      <td>0.0</td>\n",
       "      <td>0.0</td>\n",
       "      <td>4.0</td>\n",
       "      <td>0.0</td>\n",
       "      <td>0.0</td>\n",
       "      <td>0.0</td>\n",
       "    </tr>\n",
       "    <tr>\n",
       "      <th>1</th>\n",
       "      <td>1.0</td>\n",
       "      <td>0.0</td>\n",
       "      <td>285.0</td>\n",
       "      <td>4.0</td>\n",
       "      <td>127.0</td>\n",
       "      <td>5.0</td>\n",
       "    </tr>\n",
       "    <tr>\n",
       "      <th>2</th>\n",
       "      <td>1.0</td>\n",
       "      <td>0.0</td>\n",
       "      <td>423.0</td>\n",
       "      <td>35.0</td>\n",
       "      <td>179.0</td>\n",
       "      <td>18.0</td>\n",
       "    </tr>\n",
       "    <tr>\n",
       "      <th>3</th>\n",
       "      <td>11.0</td>\n",
       "      <td>0.0</td>\n",
       "      <td>459.0</td>\n",
       "      <td>78.0</td>\n",
       "      <td>210.0</td>\n",
       "      <td>30.0</td>\n",
       "    </tr>\n",
       "    <tr>\n",
       "      <th>4</th>\n",
       "      <td>101.0</td>\n",
       "      <td>1.0</td>\n",
       "      <td>450.0</td>\n",
       "      <td>129.0</td>\n",
       "      <td>210.0</td>\n",
       "      <td>47.0</td>\n",
       "    </tr>\n",
       "    <tr>\n",
       "      <th>5</th>\n",
       "      <td>307.0</td>\n",
       "      <td>2.0</td>\n",
       "      <td>443.0</td>\n",
       "      <td>175.0</td>\n",
       "      <td>201.0</td>\n",
       "      <td>66.0</td>\n",
       "    </tr>\n",
       "    <tr>\n",
       "      <th>6</th>\n",
       "      <td>420.0</td>\n",
       "      <td>14.0</td>\n",
       "      <td>415.0</td>\n",
       "      <td>215.0</td>\n",
       "      <td>180.0</td>\n",
       "      <td>90.0</td>\n",
       "    </tr>\n",
       "    <tr>\n",
       "      <th>7</th>\n",
       "      <td>409.0</td>\n",
       "      <td>66.0</td>\n",
       "      <td>377.0</td>\n",
       "      <td>257.0</td>\n",
       "      <td>173.0</td>\n",
       "      <td>100.0</td>\n",
       "    </tr>\n",
       "    <tr>\n",
       "      <th>8</th>\n",
       "      <td>343.0</td>\n",
       "      <td>169.0</td>\n",
       "      <td>354.0</td>\n",
       "      <td>285.0</td>\n",
       "      <td>156.0</td>\n",
       "      <td>121.0</td>\n",
       "    </tr>\n",
       "    <tr>\n",
       "      <th>9</th>\n",
       "      <td>263.0</td>\n",
       "      <td>280.0</td>\n",
       "      <td>328.0</td>\n",
       "      <td>316.0</td>\n",
       "      <td>142.0</td>\n",
       "      <td>135.0</td>\n",
       "    </tr>\n",
       "    <tr>\n",
       "      <th>10</th>\n",
       "      <td>225.0</td>\n",
       "      <td>350.0</td>\n",
       "      <td>293.0</td>\n",
       "      <td>351.0</td>\n",
       "      <td>131.0</td>\n",
       "      <td>146.0</td>\n",
       "    </tr>\n",
       "    <tr>\n",
       "      <th>11</th>\n",
       "      <td>189.0</td>\n",
       "      <td>406.0</td>\n",
       "      <td>261.0</td>\n",
       "      <td>383.0</td>\n",
       "      <td>120.0</td>\n",
       "      <td>157.0</td>\n",
       "    </tr>\n",
       "    <tr>\n",
       "      <th>12</th>\n",
       "      <td>160.0</td>\n",
       "      <td>443.0</td>\n",
       "      <td>237.0</td>\n",
       "      <td>407.0</td>\n",
       "      <td>111.0</td>\n",
       "      <td>166.0</td>\n",
       "    </tr>\n",
       "    <tr>\n",
       "      <th>13</th>\n",
       "      <td>131.0</td>\n",
       "      <td>478.0</td>\n",
       "      <td>218.0</td>\n",
       "      <td>426.0</td>\n",
       "      <td>101.0</td>\n",
       "      <td>176.0</td>\n",
       "    </tr>\n",
       "    <tr>\n",
       "      <th>14</th>\n",
       "      <td>101.0</td>\n",
       "      <td>510.0</td>\n",
       "      <td>196.0</td>\n",
       "      <td>448.0</td>\n",
       "      <td>90.0</td>\n",
       "      <td>187.0</td>\n",
       "    </tr>\n",
       "    <tr>\n",
       "      <th>15</th>\n",
       "      <td>80.0</td>\n",
       "      <td>534.0</td>\n",
       "      <td>182.0</td>\n",
       "      <td>462.0</td>\n",
       "      <td>81.0</td>\n",
       "      <td>196.0</td>\n",
       "    </tr>\n",
       "    <tr>\n",
       "      <th>16</th>\n",
       "      <td>60.0</td>\n",
       "      <td>557.0</td>\n",
       "      <td>163.0</td>\n",
       "      <td>481.0</td>\n",
       "      <td>73.0</td>\n",
       "      <td>204.0</td>\n",
       "    </tr>\n",
       "    <tr>\n",
       "      <th>17</th>\n",
       "      <td>NaN</td>\n",
       "      <td>NaN</td>\n",
       "      <td>147.0</td>\n",
       "      <td>497.0</td>\n",
       "      <td>66.0</td>\n",
       "      <td>211.0</td>\n",
       "    </tr>\n",
       "  </tbody>\n",
       "</table>\n",
       "</div>"
      ],
      "text/plain": [
       "    infected_at_t  recovered_at_t  simulated_infected_at_t  \\\n",
       "0             0.0             0.0                      4.0   \n",
       "1             1.0             0.0                    285.0   \n",
       "2             1.0             0.0                    423.0   \n",
       "3            11.0             0.0                    459.0   \n",
       "4           101.0             1.0                    450.0   \n",
       "5           307.0             2.0                    443.0   \n",
       "6           420.0            14.0                    415.0   \n",
       "7           409.0            66.0                    377.0   \n",
       "8           343.0           169.0                    354.0   \n",
       "9           263.0           280.0                    328.0   \n",
       "10          225.0           350.0                    293.0   \n",
       "11          189.0           406.0                    261.0   \n",
       "12          160.0           443.0                    237.0   \n",
       "13          131.0           478.0                    218.0   \n",
       "14          101.0           510.0                    196.0   \n",
       "15           80.0           534.0                    182.0   \n",
       "16           60.0           557.0                    163.0   \n",
       "17            NaN             NaN                    147.0   \n",
       "\n",
       "    simulated_recovered_at_t  random_infected_at_t  random_recovered_at_t  \n",
       "0                        0.0                   0.0                    0.0  \n",
       "1                        4.0                 127.0                    5.0  \n",
       "2                       35.0                 179.0                   18.0  \n",
       "3                       78.0                 210.0                   30.0  \n",
       "4                      129.0                 210.0                   47.0  \n",
       "5                      175.0                 201.0                   66.0  \n",
       "6                      215.0                 180.0                   90.0  \n",
       "7                      257.0                 173.0                  100.0  \n",
       "8                      285.0                 156.0                  121.0  \n",
       "9                      316.0                 142.0                  135.0  \n",
       "10                     351.0                 131.0                  146.0  \n",
       "11                     383.0                 120.0                  157.0  \n",
       "12                     407.0                 111.0                  166.0  \n",
       "13                     426.0                 101.0                  176.0  \n",
       "14                     448.0                  90.0                  187.0  \n",
       "15                     462.0                  81.0                  196.0  \n",
       "16                     481.0                  73.0                  204.0  \n",
       "17                     497.0                  66.0                  211.0  "
      ]
     },
     "execution_count": 48,
     "metadata": {},
     "output_type": "execute_result"
    }
   ],
   "source": [
    "record_model = pd.DataFrame([infected_at_t, recovered_at_t, simulated_infected_at_t, simulated_recovered_at_t, random_infected_at_t, random_recovered_at_t]) #, columns=['infected_at_t', 'recovered_at_t', 'simulated_infected_at_t', 'simulated_recovered_at_t', 'random_infected_at_t',' random_recovered_at_t'])\n",
    "record_model = record_model.transpose()\n",
    "record_model = pd.DataFrame(record_model.values, columns=['infected_at_t', 'recovered_at_t', 'simulated_infected_at_t', 'simulated_recovered_at_t', 'random_infected_at_t','random_recovered_at_t'])\n",
    "record_model"
   ]
  },
  {
   "cell_type": "code",
   "execution_count": 49,
   "metadata": {},
   "outputs": [],
   "source": [
    "import matplotlib.pyplot as plt"
   ]
  },
  {
   "cell_type": "code",
   "execution_count": 53,
   "metadata": {},
   "outputs": [
    {
     "data": {
      "image/png": "[encoded data removed]",
      "text/plain": [
       "<Figure size 1080x720 with 1 Axes>"
      ]
     },
     "metadata": {
      "needs_background": "light"
     },
     "output_type": "display_data"
    }
   ],
   "source": [
    "ax = plt.gca()\n",
    "plt.rcParams[\"figure.figsize\"] = (15, 10)\n",
    "plt.rcParams.update({'font.size': 12})\n",
    "record_model['infected_at_t'].plot(kind='line', color='red', ax=ax, label='Infected at T real data')\n",
    "record_model['recovered_at_t'].plot(kind='line', color='green', ax=ax, label='Recovered at T real data')\n",
    "\n",
    "record_model['simulated_infected_at_t'].plot(kind='line', color='red', style='--', ax=ax, label='Simulated infected at T real data')\n",
    "record_model['simulated_recovered_at_t'].plot(kind='line', color='green', style='--', ax=ax, label='Simulated recovered at T real data')\n",
    "\n",
    "record_model['random_infected_at_t'].plot(kind='line', color='red', style='-.', ax=ax, label='Simulated infected at T random graph')\n",
    "record_model['random_recovered_at_t'].plot(kind='line', color='green', style='-.', ax=ax, label='Simulated recovered at T random graph')\n",
    "ax.legend()\n",
    "plt.ylabel('Number of People',fontsize=12,)\n",
    "plt.xlabel('Time',fontsize=12,)\n",
    "plt.savefig('./comparison_plot.png')\n",
    "plt.show()"
   ]
  },
  {
   "cell_type": "code",
   "execution_count": null,
   "metadata": {},
   "outputs": [],
   "source": []
  },
  {
   "cell_type": "code",
   "execution_count": null,
   "metadata": {},
   "outputs": [],
   "source": []
  }
 ],
 "metadata": {
  "kernelspec": {
   "display_name": "Python 3",
   "language": "python",
   "name": "python3"
  },
  "language_info": {
   "codemirror_mode": {
    "name": "ipython",
    "version": 3
   },
   "file_extension": ".py",
   "mimetype": "text/x-python",
   "name": "python",
   "nbconvert_exporter": "python",
   "pygments_lexer": "ipython3",
   "version": "3.7.6"
  }
 },
 "nbformat": 4,
 "nbformat_minor": 4
}
