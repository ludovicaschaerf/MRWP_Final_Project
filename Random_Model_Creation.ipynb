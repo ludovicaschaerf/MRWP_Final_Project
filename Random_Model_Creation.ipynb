{
 "cells": [
  {
   "cell_type": "code",
   "execution_count": 1,
   "metadata": {},
   "outputs": [],
   "source": [
    "import networkx as nx\n",
    "import numpy as np\n",
    "import Visualizer"
   ]
  },
  {
   "cell_type": "code",
   "execution_count": 2,
   "metadata": {},
   "outputs": [],
   "source": [
    "G = nx.gnm_random_graph(2000, 10000, seed=42)"
   ]
  },
  {
   "cell_type": "code",
   "execution_count": 3,
   "metadata": {},
   "outputs": [],
   "source": [
    "def simulate_sirs(G,beta,gamma,xi,f,lst_initial_immune,lst_initial_infected):\n",
    "    attDict = {}\n",
    "    for node in lst_initial_immune:\n",
    "        attDict[node] = [0]\n",
    "    for node in lst_initial_infected:\n",
    "        attDict[node] = [1]\n",
    "    t = 0\n",
    "    D = []\n",
    "    D.append([len(lst_initial_immune), len(lst_initial_infected), 0])\n",
    "    I = 645\n",
    "    #Uncomment when creating newGraph: while t < f and I < 644:\n",
    "    #Comment when simulating SIRS: while t < f: #and I < 644:\n",
    "    while t < f: #and I < 644:\n",
    "        S = 0\n",
    "        I = 0\n",
    "        R = 0\n",
    "        for node in list(attDict.keys()):\n",
    "            if attDict[node][t] == 0:\n",
    "                if np.random.random() < beta:\n",
    "                    attDict[node].append(1)\n",
    "                    I += 1\n",
    "                else:\n",
    "                    attDict[node].append(0)\n",
    "                    S += 1\n",
    "            if attDict[node][t] == 1:\n",
    "                if np.random.random() < gamma:\n",
    "                    attDict[node].append(2)\n",
    "                    R += 1\n",
    "                else:\n",
    "                    attDict[node].append(1)\n",
    "                    I += 1\n",
    "            if attDict[node][t] == 2:\n",
    "                if np.random.random() < xi:\n",
    "                    attDict[node].append(0)\n",
    "                    S += 1\n",
    "                else:\n",
    "                    attDict[node].append(2)\n",
    "                    R += 1\n",
    "        D.append([S,I,R])\n",
    "        t+=1\n",
    "    nx.set_node_attributes(G,attDict,\"state\")\n",
    "    infected = []\n",
    "    for node in G.nodes():\n",
    "        if G.nodes[node][\"state\"][t-1] == 1:\n",
    "            infected.append(node)\n",
    "    if len(infected) < 644:\n",
    "        newGraph = G.subgraph(infected)\n",
    "    else:\n",
    "        newGraph = G.subgraph(np.random.choice(infected, 644, replace=False))\n",
    "    return (D, newGraph)"
   ]
  },
  {
   "cell_type": "code",
   "execution_count": 4,
   "metadata": {},
   "outputs": [],
   "source": [
    "sim = simulate_sirs(G, 0.25, 0.4, 0.1, 15, list(G.nodes)[:1000], list(G.nodes)[1000:])"
   ]
  },
  {
   "cell_type": "code",
   "execution_count": 5,
   "metadata": {
    "scrolled": true
   },
   "outputs": [
    {
     "data": {
      "text/plain": [
       "(277, 210)"
      ]
     },
     "execution_count": 5,
     "metadata": {},
     "output_type": "execute_result"
    }
   ],
   "source": [
    "D = sim[0]\n",
    "ngraph = sim[1]\n",
    "(len(ngraph.nodes()), len(ngraph.edges()))"
   ]
  },
  {
   "cell_type": "code",
   "execution_count": 23,
   "metadata": {},
   "outputs": [
    {
     "name": "stdout",
     "output_type": "stream",
     "text": [
      "original characteristic path length not connected, \n",
      "original characteristic path length of biggest component 5.414217019053407,\n",
      "original network density 0.0051341247838644554,\n",
      "original network average degree 3.301242236024845,\n",
      "original transitivity 0.005229517722254503, \n",
      "original average clustering coefficient 0.004611554766834272, \n",
      "original number of connected components 28, \n",
      "original average size of a connected component 23.0\n"
     ]
    }
   ],
   "source": [
    "char_path_length = 'not connected'\n",
    "pos_max = np.argmax([len(listElem) for listElem in sorted(nx.connected_components(ngraph))])\n",
    "char_path_length_component = [nx.average_shortest_path_length(ngraph.subgraph(g)) for g in sorted(nx.connected_components(ngraph))][pos_max]\n",
    "\n",
    "density = nx.density(ngraph)\n",
    "degree = sum(dict(ngraph.degree()).values())/len(ngraph)\n",
    "transitivity = nx.transitivity(ngraph)\n",
    "clustering_coef = nx.average_clustering(ngraph)\n",
    "\n",
    "n_connected_comp = nx.number_connected_components(ngraph)\n",
    "size_connected_comp = sum([len(listElem) for listElem in sorted(nx.connected_components(ngraph))])/len(sorted(nx.connected_components(ngraph)))\n",
    "\n",
    "print(f'original characteristic path length {char_path_length}, \\noriginal characteristic path length of biggest component {char_path_length_component},\\noriginal network density {density},\\noriginal network average degree {degree},\\noriginal transitivity {transitivity}, \\noriginal average clustering coefficient {clustering_coef}, \\noriginal number of connected components {n_connected_comp}, \\noriginal average size of a connected component {size_connected_comp}')"
   ]
  },
  {
   "cell_type": "code",
   "execution_count": 8,
   "metadata": {},
   "outputs": [],
   "source": [
    "sim_ngraph = simulate_sirs(ngraph, 0.25, 0.05, 0.0001, 35, list(ngraph.nodes)[:640], list(ngraph.nodes)[640:])"
   ]
  },
  {
   "cell_type": "code",
   "execution_count": 9,
   "metadata": {},
   "outputs": [
    {
     "name": "stdout",
     "output_type": "stream",
     "text": [
      "Nodes positions computed.\n",
      "Edges trace computed.\n",
      "Nodes trace computed.\n",
      "Frames computed.\n",
      "Figure generated.\n",
      "Visualization rendering done\n",
      "File saved.\n"
     ]
    }
   ],
   "source": [
    "Visualizer.showSIRS(ngraph, \"random_graph_simulation.html\", 0.25, 0.05, 0.0001, 35, sim_ngraph[0])"
   ]
  },
  {
   "cell_type": "code",
   "execution_count": 10,
   "metadata": {},
   "outputs": [],
   "source": [
    "Visualizer.showData(sim_ngraph[0], \"random_model_data.html\", 0.25, 0.05, 0.0001)"
   ]
  },
  {
   "cell_type": "code",
   "execution_count": 12,
   "metadata": {},
   "outputs": [],
   "source": [
    "import pickle\n",
    "with open('results_random.pkl', 'wb') as outfile:\n",
    "    pickle.dump(sim_ngraph, outfile)"
   ]
  },
  {
   "cell_type": "code",
   "execution_count": null,
   "metadata": {},
   "outputs": [],
   "source": []
  }
 ],
 "metadata": {
  "kernelspec": {
   "display_name": "Python 3",
   "language": "python",
   "name": "python3"
  },
  "language_info": {
   "codemirror_mode": {
    "name": "ipython",
    "version": 3
   },
   "file_extension": ".py",
   "mimetype": "text/x-python",
   "name": "python",
   "nbconvert_exporter": "python",
   "pygments_lexer": "ipython3",
   "version": "3.7.6"
  }
 },
 "nbformat": 4,
 "nbformat_minor": 4
}
