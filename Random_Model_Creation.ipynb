{
 "cells": [
  {
   "cell_type": "code",
   "execution_count": 46,
   "metadata": {},
   "outputs": [],
   "source": [
    "import networkx as nx\n",
    "import numpy as np\n",
    "import Visualizer"
   ]
  },
  {
   "cell_type": "code",
   "execution_count": 47,
   "metadata": {},
   "outputs": [],
   "source": [
    "G = nx.gnm_random_graph(1280, 2340, seed=42)"
   ]
  },
  {
   "cell_type": "code",
   "execution_count": 48,
   "metadata": {},
   "outputs": [
    {
     "name": "stdout",
     "output_type": "stream",
     "text": [
      "original characteristic path length not connected, \n",
      "original characteristic path length of biggest component 5.638166659337305,\n",
      "original network density 0.0028586786551993747,\n",
      "original transitivity 0.0021337126600284497, \n",
      "original average clustering coefficient 0.0026109871031746034, \n",
      "original number of connected components 35, \n",
      "original average size of a connected component 36.57142857142857\n"
     ]
    }
   ],
   "source": [
    "char_path_length = 'not connected'\n",
    "pos_max = np.argmax([len(listElem) for listElem in sorted(nx.connected_components(G))])\n",
    "char_path_length_component = [nx.average_shortest_path_length(G.subgraph(g)) for g in sorted(nx.connected_components(G))][pos_max]\n",
    "\n",
    "density = nx.density(G)\n",
    "\n",
    "transitivity = nx.transitivity(G)\n",
    "clustering_coef = nx.average_clustering(G)\n",
    "\n",
    "n_connected_comp = nx.number_connected_components(G)\n",
    "size_connected_comp = sum([len(listElem) for listElem in sorted(nx.connected_components(G))])/len(sorted(nx.connected_components(G)))\n",
    "\n",
    "print(f'original characteristic path length {char_path_length}, \\noriginal characteristic path length of biggest component {char_path_length_component},\\noriginal network density {density},\\noriginal transitivity {transitivity}, \\noriginal average clustering coefficient {clustering_coef}, \\noriginal number of connected components {n_connected_comp}, \\noriginal average size of a connected component {size_connected_comp}')"
   ]
  },
  {
   "cell_type": "code",
   "execution_count": 49,
   "metadata": {},
   "outputs": [],
   "source": [
    "def simulate_sirs(G,beta,gamma,xi,f,lst_initial_immune,lst_initial_infected):\n",
    "    attDict = {}\n",
    "    for node in lst_initial_immune:\n",
    "        attDict[node] = [0]\n",
    "    for node in lst_initial_infected:\n",
    "        attDict[node] = [1]\n",
    "    t = 0\n",
    "    D = []\n",
    "    D.append([len(lst_initial_immune), len(lst_initial_infected), 0])\n",
    "    while t < f:\n",
    "        S = 0\n",
    "        I = 0\n",
    "        R = 0\n",
    "        for node in list(attDict.keys()):\n",
    "            if attDict[node][t] == 0:\n",
    "                if np.random.random() < beta:\n",
    "                    attDict[node].append(1)\n",
    "                    I += 1\n",
    "                else:\n",
    "                    attDict[node].append(0)\n",
    "                    S += 1\n",
    "            if attDict[node][t] == 1:\n",
    "                if np.random.random() < gamma:\n",
    "                    attDict[node].append(2)\n",
    "                    R += 1\n",
    "                else:\n",
    "                    attDict[node].append(1)\n",
    "                    I += 1\n",
    "            if attDict[node][t] == 2:\n",
    "                if np.random.random() < xi:\n",
    "                    attDict[node].append(0)\n",
    "                    S += 1\n",
    "                else:\n",
    "                    attDict[node].append(2)\n",
    "                    R += 1\n",
    "        D.append([S,I,R])\n",
    "        t+=1\n",
    "    nx.set_node_attributes(G,attDict,\"state\")\n",
    "    return D"
   ]
  },
  {
   "cell_type": "code",
   "execution_count": 50,
   "metadata": {
    "scrolled": true
   },
   "outputs": [],
   "source": [
    "D = simulate_sirs(G, 0.3, 0.4, 0.1, 10, list(G.nodes)[:640], list(G.nodes)[640:])"
   ]
  },
  {
   "cell_type": "code",
   "execution_count": 51,
   "metadata": {},
   "outputs": [
    {
     "name": "stdout",
     "output_type": "stream",
     "text": [
      "Nodes positions computed.\n",
      "Edges trace computed.\n",
      "Nodes trace computed.\n",
      "Frames computed.\n",
      "Figure generated.\n",
      "Visualization rendering done\n",
      "File saved.\n"
     ]
    }
   ],
   "source": [
    "Visualizer.showSIRS(G, \"test_simulation.html\", 0.3, 0.4, 0.1, 10, D)"
   ]
  },
  {
   "cell_type": "code",
   "execution_count": 52,
   "metadata": {},
   "outputs": [],
   "source": [
    "Visualizer.showData(D, \"test_data.html\", 0.3, 0.4, 0.1)"
   ]
  }
 ],
 "metadata": {
  "kernelspec": {
   "display_name": "Python 3",
   "language": "python",
   "name": "python3"
  },
  "language_info": {
   "codemirror_mode": {
    "name": "ipython",
    "version": 3
   },
   "file_extension": ".py",
   "mimetype": "text/x-python",
   "name": "python",
   "nbconvert_exporter": "python",
   "pygments_lexer": "ipython3",
   "version": "3.7.7"
  }
 },
 "nbformat": 4,
 "nbformat_minor": 4
}
